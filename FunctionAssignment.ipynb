{
 "cells": [
  {
   "cell_type": "code",
   "execution_count": 1,
   "id": "ed592855-3261-4b34-92d3-4d841bf855ed",
   "metadata": {},
   "outputs": [
    {
     "name": "stdout",
     "output_type": "stream",
     "text": [
      "Sub-fields in AI are:\n",
      "Machine Learning\n",
      "Neural Networks\n",
      "Vision\n",
      "Robotics\n",
      "Speech Processing\n",
      "Natural Language Processing\n"
     ]
    }
   ],
   "source": [
    "def AISubfields():\n",
    "        print(\"Sub-fields in AI are:\")\n",
    "        print(\"Machine Learning\")\n",
    "        print(\"Neural Networks\")\n",
    "        print(\"Vision\")\n",
    "        print(\"Robotics\")\n",
    "        print(\"Speech Processing\")\n",
    "        print(\"Natural Language Processing\")\n",
    "\n",
    "AISubfields()\n",
    "        "
   ]
  },
  {
   "cell_type": "code",
   "execution_count": 2,
   "id": "fe53cd89-5e6b-48cc-b921-bb8bae8428ac",
   "metadata": {},
   "outputs": [
    {
     "name": "stdin",
     "output_type": "stream",
     "text": [
      "Enter a number 52452\n"
     ]
    },
    {
     "name": "stdout",
     "output_type": "stream",
     "text": [
      "52452 is Even number\n"
     ]
    }
   ],
   "source": [
    "def OddEven():\n",
    "    num=int(input(\"Enter a number\"))\n",
    "    if(num%2==0):\n",
    "        print(num,\"is Even number\")\n",
    "    else:\n",
    "        print(num,\"is Odd number\")\n",
    "\n",
    "OddEven()"
   ]
  },
  {
   "cell_type": "code",
   "execution_count": 3,
   "id": "8c55dec4-9a27-459f-9706-712c7fd7fbdf",
   "metadata": {},
   "outputs": [
    {
     "name": "stdin",
     "output_type": "stream",
     "text": [
      "Enter your age: 20\n",
      "Enter your Gender: Male\n"
     ]
    },
    {
     "name": "stdout",
     "output_type": "stream",
     "text": [
      "Your Gender: Male\n",
      "Your Age: 20\n",
      "NOT ELIGIBLE\n"
     ]
    }
   ],
   "source": [
    "def MarriageEligible():\n",
    "    age=int(input(\"Enter your age:\"))\n",
    "    Gender = input(\"Enter your Gender:\")\n",
    "    if(Gender== \"Male\" and age>=21):\n",
    "        print(\"Your Gender:\",Gender)\n",
    "        print(\"Your Age:\",age)\n",
    "        print(\"ELIGIBLE\")\n",
    "    elif(Gender == \"Female\" and age>=18):\n",
    "        print(\"Your Gender:\",Gender)\n",
    "        print(\"Your Age:\",age)\n",
    "        print(\"ELIGIBLE\")\n",
    "    else:\n",
    "        print(\"Your Gender:\",Gender)\n",
    "        print(\"Your Age:\",age)\n",
    "        print(\"NOT ELIGIBLE\")\n",
    " \n",
    "MarriageEligible()\n",
    "        \n",
    "    "
   ]
  },
  {
   "cell_type": "code",
   "execution_count": 4,
   "id": "ec61e5c9-54c7-4df7-ab2e-99a8e2fdff5d",
   "metadata": {},
   "outputs": [
    {
     "name": "stdout",
     "output_type": "stream",
     "text": [
      "subject1= 98\n",
      "subject2= 87\n",
      "subject3= 95\n",
      "subject4= 95\n",
      "subject5= 93\n",
      "total: 468\n",
      "percentage: 93.60000000000001\n"
     ]
    }
   ],
   "source": [
    "\n",
    "def percentage():\n",
    "    subject1= 98\n",
    "    subject2=87\n",
    "    subject3=95\n",
    "    subject4=95\n",
    "    subject5=93\n",
    "    print(\"subject1=\",subject1)\n",
    "    print(\"subject2=\",subject2)\n",
    "    print(\"subject3=\",subject3)\n",
    "    print(\"subject4=\",subject4)\n",
    "    print(\"subject5=\",subject5)\n",
    "    total = subject1+subject2+subject3+subject4+subject5\n",
    "    print(\"total:\",total)\n",
    "    percentage = (total/500)*100\n",
    "    print(\"percentage:\",percentage)\n",
    "\n",
    "percentage()"
   ]
  },
  {
   "cell_type": "code",
   "execution_count": 5,
   "id": "9c428a2c-5d26-41c2-a3d9-e334c90e8a4f",
   "metadata": {},
   "outputs": [
    {
     "name": "stdout",
     "output_type": "stream",
     "text": [
      "Height= 32\n",
      "Breadth= 34\n",
      "Area of Triangle: 544.0\n",
      "Height1: 2\n",
      "Height2: 4\n",
      "Breadth: 4\n",
      "Perimeter of Triangle: 10\n"
     ]
    }
   ],
   "source": [
    "def TriangleArea():\n",
    "    Height=32\n",
    "    Breadth=34\n",
    "    Area = (Height*Breadth)/2\n",
    "    print(\"Height=\",Height)\n",
    "    print(\"Breadth=\",Breadth)\n",
    "    print(\"Area of Triangle:\",Area)\n",
    "    Height1=2\n",
    "    Height2=4\n",
    "    Breadth=4\n",
    "    print(\"Height1:\",Height1)\n",
    "    print(\"Height2:\",Height2)\n",
    "    print(\"Breadth:\",Breadth)\n",
    "    Perimeter = Height1+Height2+Breadth\n",
    "    print(\"Perimeter of Triangle:\",Perimeter)\n",
    "\n",
    "TriangleArea()\n"
   ]
  }
 ],
 "metadata": {
  "kernelspec": {
   "display_name": "Python [conda env:base] *",
   "language": "python",
   "name": "conda-base-py"
  },
  "language_info": {
   "codemirror_mode": {
    "name": "ipython",
    "version": 3
   },
   "file_extension": ".py",
   "mimetype": "text/x-python",
   "name": "python",
   "nbconvert_exporter": "python",
   "pygments_lexer": "ipython3",
   "version": "3.12.7"
  }
 },
 "nbformat": 4,
 "nbformat_minor": 5
}
