{
 "cells": [
  {
   "cell_type": "code",
   "execution_count": 1,
   "id": "45be6596-c89a-469c-88a5-7b951e325c1c",
   "metadata": {},
   "outputs": [
    {
     "name": "stdout",
     "output_type": "stream",
     "text": [
      "0\n",
      "1\n",
      "2\n",
      "3\n",
      "4\n",
      "5\n",
      "6\n",
      "7\n",
      "8\n",
      "9\n",
      "10\n",
      "11\n",
      "12\n",
      "13\n",
      "14\n",
      "15\n",
      "16\n",
      "17\n",
      "18\n",
      "19\n"
     ]
    }
   ],
   "source": [
    "for num in range(0,20):\n",
    "    print(num)"
   ]
  },
  {
   "cell_type": "raw",
   "id": "506bb2b3-64fe-456d-a943-193595ab8d15",
   "metadata": {},
   "source": []
  },
  {
   "cell_type": "code",
   "execution_count": 3,
   "id": "08ad9c55-22b9-4953-9ea5-63f194ec051d",
   "metadata": {},
   "outputs": [
    {
     "name": "stdout",
     "output_type": "stream",
     "text": [
      "10\n",
      "11\n",
      "12\n",
      "13\n",
      "14\n",
      "15\n",
      "16\n",
      "17\n",
      "18\n",
      "19\n"
     ]
    }
   ],
   "source": [
    "for num1 in range(10,20):\n",
    "    print(num1)"
   ]
  },
  {
   "cell_type": "code",
   "execution_count": 5,
   "id": "8c6766db-311e-44df-82c4-fa6b74040739",
   "metadata": {},
   "outputs": [
    {
     "name": "stdout",
     "output_type": "stream",
     "text": [
      "[10, 20, 14, 55, 43, 87, 76]\n",
      "Number of item in the List2: 7\n"
     ]
    }
   ],
   "source": [
    "lists=[10, 20, 14, 55, 43, 87, 76]\n",
    "print(lists)\n",
    "length=len(lists)\n",
    "print(\"Number of item in the List2:\",length)"
   ]
  },
  {
   "cell_type": "code",
   "execution_count": 6,
   "id": "2f96cc9c-d304-4d09-88c6-d6bfb149ff62",
   "metadata": {},
   "outputs": [
    {
     "name": "stdout",
     "output_type": "stream",
     "text": [
      "A\n",
      "R\n",
      "T\n",
      "I\n",
      "F\n",
      "I\n",
      "C\n",
      "I\n",
      "A\n",
      "L\n",
      " \n",
      "I\n",
      "N\n",
      "T\n",
      "E\n",
      "L\n",
      "L\n",
      "I\n",
      "G\n",
      "E\n",
      "N\n",
      "C\n",
      "E\n"
     ]
    }
   ],
   "source": [
    "word = \"ARTIFICIAL INTELLIGENCE\"\n",
    "for temp in word:\n",
    "    print(temp)"
   ]
  },
  {
   "cell_type": "code",
   "execution_count": 7,
   "id": "006d2d91-4a59-4e9a-96eb-7a43860affe3",
   "metadata": {},
   "outputs": [
    {
     "name": "stdout",
     "output_type": "stream",
     "text": [
      "-Your Name-\n",
      "-Your Age-\n",
      "-Your Profession-\n"
     ]
    }
   ],
   "source": [
    "print(\"-Your Name-\")\n",
    "print(\"-Your Age-\")\n",
    "print(\"-Your Profession-\")"
   ]
  },
  {
   "cell_type": "code",
   "execution_count": 8,
   "id": "0783ebf5-2914-45ff-95d1-66018e80a440",
   "metadata": {},
   "outputs": [
    {
     "name": "stdout",
     "output_type": "stream",
     "text": [
      "(1, 'Welcome', 2, 'Hope')\n"
     ]
    }
   ],
   "source": [
    "tup=(1, 'Welcome', 2, 'Hope')\n",
    "print(tup)"
   ]
  },
  {
   "cell_type": "code",
   "execution_count": 12,
   "id": "a6f7dc00-8a8d-4f05-8a7b-79cba39c7829",
   "metadata": {},
   "outputs": [
    {
     "name": "stdout",
     "output_type": "stream",
     "text": [
      "((0, 1, 2, 3), ('python', 'HOPE'))\n"
     ]
    }
   ],
   "source": [
    "Tuple1 = (0, 1, 2, 3)\n",
    "Tuple2 = ('python', 'HOPE')\n",
    "tup=(Tuple1,Tuple2)\n",
    "print(tup)"
   ]
  },
  {
   "cell_type": "code",
   "execution_count": 13,
   "id": "6b26c344-c4b8-4548-8bae-b3d1af15ac2b",
   "metadata": {},
   "outputs": [
    {
     "name": "stdout",
     "output_type": "stream",
     "text": [
      "19 is ODD\n",
      "25 is ODD\n",
      "1 is ODD\n"
     ]
    }
   ],
   "source": [
    "lists=[20,10,16,19,25,1,276,188]\n",
    "for num in lists:\n",
    "    if (num%2==1):\n",
    "        print(num,\"is ODD\")\n"
   ]
  },
  {
   "cell_type": "code",
   "execution_count": 15,
   "id": "a9d42e02-a58e-4426-a952-72c074a14ea9",
   "metadata": {},
   "outputs": [
    {
     "name": "stdout",
     "output_type": "stream",
     "text": [
      "20 is EVEN\n",
      "10 is EVEN\n",
      "16 is EVEN\n",
      "276 is EVEN\n",
      "188 is EVEN\n"
     ]
    }
   ],
   "source": [
    "even=(20,10,16,19,25,1,276,188)\n",
    "for num in even:\n",
    "    if(num%2==0):\n",
    "        print(num,\"is EVEN\")"
   ]
  }
 ],
 "metadata": {
  "kernelspec": {
   "display_name": "Python [conda env:base] *",
   "language": "python",
   "name": "conda-base-py"
  },
  "language_info": {
   "codemirror_mode": {
    "name": "ipython",
    "version": 3
   },
   "file_extension": ".py",
   "mimetype": "text/x-python",
   "name": "python",
   "nbconvert_exporter": "python",
   "pygments_lexer": "ipython3",
   "version": "3.12.7"
  }
 },
 "nbformat": 4,
 "nbformat_minor": 5
}
